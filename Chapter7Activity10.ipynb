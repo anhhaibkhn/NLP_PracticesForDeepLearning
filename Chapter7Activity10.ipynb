{
 "nbformat": 4,
 "nbformat_minor": 2,
 "metadata": {
  "language_info": {
   "name": "python",
   "codemirror_mode": {
    "name": "ipython",
    "version": 3
   },
   "version": "3.7.7-final"
  },
  "orig_nbformat": 2,
  "file_extension": ".py",
  "mimetype": "text/x-python",
  "name": "python",
  "npconvert_exporter": "python",
  "pygments_lexer": "ipython3",
  "version": 3,
  "kernelspec": {
   "name": "python37464bitvirtualenvvenv9acec58b124a4af58980f597288afade",
   "display_name": "Python 3.7.4 64-bit ('virtual_env': venv)"
  }
 },
 "cells": [
  {
   "cell_type": "code",
   "execution_count": 10,
   "metadata": {
    "tags": [
     "outputPrepend"
    ]
   },
   "outputs": [
    {
     "output_type": "stream",
     "name": "stdout",
     "text": "['Hi.\\tHallo!', 'Hi.\\tGrüß Gott!']\n"
    }
   ],
   "source": [
    "\"\"\"Neural Language Translation: to build a model that can translate a large text to a target language\"\"\"\n",
    "# The architecture consists of an encoder block and a decoder block\n",
    "#1. Read file containing sentence pair, keep number of paris resitricted to 20000 (demo)\n",
    "import os, re\n",
    "import numpy as np \n",
    "with open(\"./Chap7Activity/deu.txt\", 'r', encoding= 'utf-8') as f:\n",
    "    lines = f.read().split('\\n')\n",
    "    print(lines[:2])"
   ]
  },
  {
   "cell_type": "code",
   "execution_count": null,
   "metadata": {},
   "outputs": [],
   "source": []
  }
 ]
}