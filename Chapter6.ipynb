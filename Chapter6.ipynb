{
 "cells": [
  {
   "cell_type": "code",
   "execution_count": 2,
   "metadata": {},
   "outputs": [
    {
     "output_type": "stream",
     "name": "stdout",
     "text": "x_t \n [[ 0.027505  ]\n [-0.20436048]\n [-0.73118598]\n [-0.75645298]\n [-2.89257329]]\nh_prev \n [[1.96865023]\n [1.08601353]\n [1.33766752]]\nW_z \n [[ 0.11351264 -1.15629545  0.68240702 -0.02559766 -0.7054325 ]\n [ 1.68878441  1.33677135 -1.85687492 -0.65589493 -2.04655839]\n [-1.01134307  0.76285632  1.33073624 -1.438581    0.15244445]]\nU_z \n [[ 0.40402939 -0.0152215   0.24598296]\n [ 0.8648696   0.71199284  0.19960275]\n [ 0.94424046  0.5013119  -0.32565198]]\nz_t \n [[0.9482523 ]\n [0.99996602]\n [0.81126157]]\n"
    }
   ],
   "source": [
    "\"\"\" Chapter 6: Gated Recurrent Units (GRUs)\n",
    "- Assess the drawback of simple RNNs\n",
    "- Describe the architecture of GRUs\n",
    "- Perfor setntiment analysis usiing GRUs\n",
    "- Apply GRUs for text generation \n",
    "\"\"\"\n",
    "import numpy as np \n",
    "# Write a sigmoid funciton to be used later in the program \n",
    "def sigmoid(x):\n",
    "    return 1/ (1 + np.exp(-x))\n",
    "\n",
    "n_x = 5 # Dimensionality of input vector \n",
    "n_h = 3 # Number of hidden units \n",
    "# Define an input at time 't'  having a dimensionality of n_x\n",
    "x_t = np.random.randn(n_x,1)\n",
    "#Define W_z, U_z and h_prev (last time step activation)\n",
    "W_z  = np.random.randn(n_h, n_x) # n_h = 3, n_x = 5\n",
    "U_z = np.random.randn(n_h, n_h)\n",
    "h_prev = np.random.randn(n_h, 1)\n",
    "print(\"x_t\", \"\\n\",x_t)\n",
    "print(\"h_prev\", \"\\n\",h_prev)\n",
    "print(\"W_z\", \"\\n\",W_z)\n",
    "print(\"U_z\", \"\\n\",U_z)\n",
    "\n",
    "# Calculate expression for update gate\n",
    "z_t = sigmoid(np.matmul(W_z, x_t) + np.matmul(U_z, h_prev))\n",
    "print(\"z_t\", \"\\n\",z_t)"
   ]
  },
  {
   "cell_type": "code",
   "execution_count": 3,
   "metadata": {},
   "outputs": [
    {
     "output_type": "stream",
     "name": "stdout",
     "text": "W_r \n [[-1.65964205  0.87294066 -0.8053601  -1.27523796 -0.62194868]\n [-0.96112401  0.30804179  0.49354157  0.95760112  1.06462417]\n [-0.496121   -1.52340271 -0.04564732  2.13781999 -0.56781337]]\nU_r \n [[ 0.81352377 -1.53698535 -0.29627467]\n [-1.20958334 -0.87335414  1.01818801]\n [-0.68290151  1.25801294 -0.54141143]]\nr_t \n [[0.93490241]\n [0.0019816 ]\n [0.41433625]]\n"
    },
    {
     "output_type": "execute_result",
     "data": {
      "text/plain": "'note that the values of r_t may not be particularly close to either 0 or 1, but in well-trained network, \\nthey are expected to be close to 0 or 1 '"
     },
     "metadata": {},
     "execution_count": 3
    }
   ],
   "source": [
    "# Define W_r, U_r \n",
    "W_r = np.random.randn(n_h, n_x) # n_h = 3, n_x = 5\n",
    "U_r = np.random.randn(n_h, n_h) # n_h = 3\n",
    "# calculate  expression for update gate\n",
    "r_t = sigmoid(np.matmul(W_r, x_t) + np.matmul(U_r, h_prev))\n",
    "print(\"W_r\", \"\\n\",W_r)\n",
    "print(\"U_r\", \"\\n\",U_r)\n",
    "print(\"r_t\", \"\\n\",r_t)\n",
    "# r_t = r_t > 0.5\n",
    "# print(\"r_t\", \"\\n\",r_t)\n",
    "\n",
    "\"\"\"note that the values of r_t may not be particularly close to either 0 or 1, but in well-trained network, \n",
    "they are expected to be close to 0 or 1 \"\"\""
   ]
  },
  {
   "cell_type": "code",
   "execution_count": 4,
   "metadata": {},
   "outputs": [
    {
     "output_type": "stream",
     "name": "stdout",
     "text": "W \n [[-0.19528449 -0.2396007   0.1186256   0.76466493  0.13075172]\n [-1.3848266  -0.66722835  2.46545262  1.40780109  0.03723913]\n [ 1.58429712 -1.2944336  -0.04179853  1.47930436 -0.06817499]]\nU \n [[-0.86160778  1.73257474 -0.08230005]\n [ 1.5532152  -1.53528431  0.89440347]\n [ 0.75083364 -0.47371584  0.88435867]]\nh_candidate \n [[-0.98961066]\n [ 0.44143266]\n [ 0.85857134]]\n"
    }
   ],
   "source": [
    "# The candidate activation function \n",
    "#Define W,U \n",
    "W = np.random.randn(n_h,n_x) # n_h = 3, n_x = 5\n",
    "U = np.random.randn(n_h, n_h)\n",
    "# calculate h_candidate\n",
    "h_candidate =  np.tanh(np.matmul(W, x_t) + np.matmul(U, np.multiply(r_t,h_prev)))\n",
    "print(\"W\", \"\\n\",W)\n",
    "print(\"U\", \"\\n\",U)\n",
    "print(\"h_candidate\", \"\\n\",h_candidate)"
   ]
  },
  {
   "cell_type": "code",
   "execution_count": 4,
   "metadata": {},
   "outputs": [],
   "source": [
    "\n",
    "\n",
    "\n",
    "\n",
    "\n",
    "\n",
    "\n",
    "\n",
    "\n",
    "\n",
    "\n",
    "\n",
    "\n",
    ""
   ]
  },
  {
   "cell_type": "code",
   "execution_count": 4,
   "metadata": {},
   "outputs": [],
   "source": [
    "\n",
    "\n",
    "\n",
    "\n",
    "\n",
    "\n",
    "\n",
    "\n",
    "\n",
    "\n",
    "\n",
    "\n",
    "\n",
    "\n",
    "\n",
    "\n",
    "\n",
    "\n",
    "\n",
    "\n",
    "\n",
    "\n",
    "\n",
    "\n",
    "\n",
    "\n",
    "\n",
    ""
   ]
  },
  {
   "cell_type": "code",
   "execution_count": null,
   "metadata": {},
   "outputs": [],
   "source": [
    "\n",
    "\n",
    "\n",
    "\n",
    "\n",
    "\n",
    "\n",
    "\n",
    "\n",
    "\n",
    "\n",
    "\n",
    "\n"
   ]
  }
 ],
 "metadata": {
  "kernelspec": {
   "display_name": "Python 3.7.4 64-bit ('virtual_env': venv)",
   "language": "python",
   "name": "python37464bitvirtualenvvenv9acec58b124a4af58980f597288afade"
  },
  "language_info": {
   "codemirror_mode": {
    "name": "ipython",
    "version": 3
   },
   "file_extension": ".py",
   "mimetype": "text/x-python",
   "name": "python",
   "nbconvert_exporter": "python",
   "pygments_lexer": "ipython3",
   "version": "3.7.7-final"
  }
 },
 "nbformat": 4,
 "nbformat_minor": 4
}